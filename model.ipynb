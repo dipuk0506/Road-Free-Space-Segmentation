{
 "cells": [
  {
   "cell_type": "code",
   "execution_count": null,
   "metadata": {
    "collapsed": true
   },
   "outputs": [],
   "source": [
    "%matplotlib inline\n",
    "import matplotlib.pyplot as plt"
   ]
  },
  {
   "cell_type": "code",
   "execution_count": null,
   "metadata": {
    "collapsed": true
   },
   "outputs": [],
   "source": [
    "import numpy as np\n",
    "import pandas as pd\n",
    "import tensorflow as tf\n",
    "import pickle\n",
    "import cv2"
   ]
  },
  {
   "cell_type": "code",
   "execution_count": null,
   "metadata": {},
   "outputs": [],
   "source": [
    "from keras.models import Model\n",
    "from keras.layers import Input\n",
    "from keras.layers import Conv2D, MaxPooling2D, Conv2DTranspose, Cropping2D\n",
    "from keras.layers import concatenate\n",
    "from keras.optimizers import Adam\n",
    "from keras.layers.normalization import BatchNormalization\n",
    "from keras import backend as K"
   ]
  },
  {
   "cell_type": "code",
   "execution_count": null,
   "metadata": {
    "collapsed": true
   },
   "outputs": [],
   "source": [
    "from keras.callbacks import ModelCheckpoint, EarlyStopping\n",
    "from keras.utils import multi_gpu_model"
   ]
  },
  {
   "cell_type": "markdown",
   "metadata": {
    "collapsed": true
   },
   "source": [
    "# Load Dataset"
   ]
  },
  {
   "cell_type": "code",
   "execution_count": null,
   "metadata": {
    "collapsed": true
   },
   "outputs": [],
   "source": [
    "data_path = \"./CamVid/\"\n",
    "\n",
    "train_path = \"./CamVid/train/\"\n",
    "train_label_path = \"./CamVid/trainannot/\"\n",
    "\n",
    "valid_path = \"./CamVid/val/\"\n",
    "valid_label_path = \"./CamVid/valannot/\"\n",
    "\n",
    "test_path = \"./CamVid/test/\"\n",
    "test_label_path = \"./CamVid/testannot/\"\n",
    "\n",
    "train_file = data_path + \"train.p\"\n",
    "valid_file = data_path + \"val.p\"\n",
    "test_file = data_path + \"test.p\""
   ]
  },
  {
   "cell_type": "code",
   "execution_count": null,
   "metadata": {
    "collapsed": true
   },
   "outputs": [],
   "source": [
    "with open(train_file, \"rb\") as f:\n",
    "    X_train, y_train = pickle.load(f)\n",
    "with open(valid_file, \"rb\") as f:\n",
    "    X_val, y_val = pickle.load(f)\n",
    "with open(test_file, \"rb\") as f:\n",
    "    X_test, y_test = pickle.load(f)"
   ]
  },
  {
   "cell_type": "code",
   "execution_count": null,
   "metadata": {},
   "outputs": [],
   "source": [
    "plt.subplot(121),plt.imshow(X_train[0])\n",
    "plt.subplot(122),plt.imshow(y_train[0]*127)"
   ]
  },
  {
   "cell_type": "code",
   "execution_count": null,
   "metadata": {},
   "outputs": [],
   "source": [
    "X_train.shape, y_train.shape"
   ]
  },
  {
   "cell_type": "code",
   "execution_count": null,
   "metadata": {},
   "outputs": [],
   "source": [
    "from matplotlib.gridspec import GridSpec\n",
    "from random import randint\n",
    "ranidx = randint(0, len(y_train))\n",
    "gs = GridSpec(4,3)\n",
    "plt.figure(dpi=200)\n",
    "for i in range(4*3):\n",
    "    plt.subplot(gs[i]), plt.imshow(y_train[ranidx][:,:,i]*255, cmap='gray')"
   ]
  },
  {
   "cell_type": "markdown",
   "metadata": {},
   "source": [
    "# Build Model(U-Net)"
   ]
  },
  {
   "cell_type": "code",
   "execution_count": null,
   "metadata": {
    "collapsed": true
   },
   "outputs": [],
   "source": [
    "num_classes = 12\n",
    "input_shape = X_train.shape[1:] #(360,480,3)\n",
    "smooth = 1.\n",
    "parallel=True"
   ]
  },
  {
   "cell_type": "code",
   "execution_count": null,
   "metadata": {
    "collapsed": true
   },
   "outputs": [],
   "source": [
    "model_checkpoint = ModelCheckpoint('model_UNET.hdf5', monitor='loss', save_best_only=True)\n",
    "model_earlystopping = EarlyStopping(monitor='loss')"
   ]
  },
  {
   "cell_type": "code",
   "execution_count": null,
   "metadata": {
    "collapsed": true
   },
   "outputs": [],
   "source": [
    "def dice_coef(y_true, y_pred):\n",
    "    y_true_f = K.flatten(y_true)\n",
    "    y_pred_f = K.flatten(y_pred)\n",
    "    intersection = K.sum(y_true_f * y_pred_f)\n",
    "    \n",
    "    return (2. * intersection + smooth) / (K.sum(y_true_f) + K.sum(y_pred_f) + smooth)\n",
    "\n",
    "def dice_coef_loss(y_true, y_pred):\n",
    "    return -dice_coef(y_true, y_pred)"
   ]
  },
  {
   "cell_type": "code",
   "execution_count": null,
   "metadata": {
    "collapsed": true
   },
   "outputs": [],
   "source": [
    "def encoder(x, layer_id, filters=64):\n",
    "    s_id = 'encoder' + str(layer_id)\n",
    "    \n",
    "    x = Conv2D(filters, (3,3), activation='relu', padding='same', name='conv1_' + s_id)(x)\n",
    "    x = Conv2D(filters, (3,3), activation='relu', padding='same', name='conv2_' + s_id)(x)\n",
    "    x = BatchNormalization(name='BN_' + s_id)(x)\n",
    "    xp = MaxPooling2D(pool_size=(2,2), name='pool_' + s_id)(x)\n",
    "    \n",
    "    return xp, x"
   ]
  },
  {
   "cell_type": "code",
   "execution_count": null,
   "metadata": {},
   "outputs": [],
   "source": [
    "def decoder(xp, x, layer_id, filters=32, cropfilters=((0,0),(0,0))):\n",
    "    s_id = 'decoder' + str(layer_id)\n",
    "    \n",
    "    x = Conv2DTranspose(filters, (2,2), strides=(2,2), padding='same', name='dconv_' + s_id)(x)\n",
    "    xp = Cropping2D(cropping=(cropfilters))(xp)\n",
    "    x = concatenate([xp, x], axis=-1, name='concat'+s_id)\n",
    "    x = Conv2D(filters, (3,3), activation='relu', padding='same', name='conv1_' + s_id)(x)\n",
    "    x = Conv2D(filters, (3,3), activation='relu', padding='same', name='conv2_' + s_id)(x)\n",
    "    \n",
    "    return x"
   ]
  },
  {
   "cell_type": "code",
   "execution_count": null,
   "metadata": {},
   "outputs": [],
   "source": [
    "def unet(nb_classes=32, input_shape=(480,480,3)):\n",
    "    inputs = Input((input_shape))\n",
    "    x, x1 = encoder(inputs, layer_id=1, filters=64)\n",
    "    x, x2 = encoder(x, layer_id=2, filters=128)\n",
    "    x, x3 = encoder(x, layer_id=3, filters=256)\n",
    "    x, x4 = encoder(x, layer_id=4, filters=512)\n",
    "\n",
    "    x = Conv2D(1024, (3,3), activation='relu', padding='same', name='conv_layer5')(x)\n",
    "\n",
    "    x = decoder(x4, x, layer_id=4, filters=512)\n",
    "    x = decoder(x3, x, layer_id=3, filters=256)\n",
    "    x = decoder(x2, x, layer_id=2, filters=128)\n",
    "    x = decoder(x1, x, layer_id=1, filters=64)\n",
    "\n",
    "    x = Conv2D(nb_classes, (1,1), activation='softmax', padding='same', name='output')(x)\n",
    "    \n",
    "    model = Model(inputs=inputs, outputs=x)\n",
    "    model.summary()\n",
    "    if parallel == True:\n",
    "        parallel_model = multi_gpu_model(model, gpus=2)\n",
    "        parallel_model.compile(optimizer='adam', loss=dice_coef_loss, metrics=[dice_coef])\n",
    "\n",
    "    else:\n",
    "        model.compile(optimizer='adam', loss=dice_coef_loss, metrics=[dice_coef])\n",
    "        parallel_model = model\n",
    "    return parallel_model"
   ]
  },
  {
   "cell_type": "code",
   "execution_count": null,
   "metadata": {
    "scrolled": false
   },
   "outputs": [],
   "source": [
    "model = unet(nb_classes=12, input_shape=(480,480,3))"
   ]
  },
  {
   "cell_type": "code",
   "execution_count": null,
   "metadata": {
    "scrolled": true
   },
   "outputs": [],
   "source": [
    "model.fit(X_train, bin_y_train, batch_size=1*2, epochs=20, verbose=1, shuffle=True,\n",
    "          callbacks=[model_checkpoint, model_earlystopping])"
   ]
  },
  {
   "cell_type": "code",
   "execution_count": null,
   "metadata": {
    "collapsed": true
   },
   "outputs": [],
   "source": [
    "pred = model.predict(X_test, verbose=1, batch_size=4)"
   ]
  },
  {
   "cell_type": "code",
   "execution_count": null,
   "metadata": {
    "collapsed": true
   },
   "outputs": [],
   "source": [
    "plt.imshow(pred[140])"
   ]
  },
  {
   "cell_type": "code",
   "execution_count": null,
   "metadata": {
    "collapsed": true
   },
   "outputs": [],
   "source": [
    "pred.shape"
   ]
  },
  {
   "cell_type": "code",
   "execution_count": null,
   "metadata": {
    "collapsed": true
   },
   "outputs": [],
   "source": []
  }
 ],
 "metadata": {
  "kernelspec": {
   "display_name": "Python 3",
   "language": "python",
   "name": "python3"
  },
  "language_info": {
   "codemirror_mode": {
    "name": "ipython",
    "version": 3
   },
   "file_extension": ".py",
   "mimetype": "text/x-python",
   "name": "python",
   "nbconvert_exporter": "python",
   "pygments_lexer": "ipython3",
   "version": "3.5.2"
  }
 },
 "nbformat": 4,
 "nbformat_minor": 2
}
