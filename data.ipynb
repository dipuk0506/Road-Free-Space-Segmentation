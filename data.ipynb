{
 "cells": [
  {
   "cell_type": "code",
   "execution_count": 1,
   "metadata": {
    "collapsed": true
   },
   "outputs": [],
   "source": [
    "%matplotlib inline\n",
    "import matplotlib.pyplot as plt\n",
    "import cv2\n",
    "import numpy as np\n",
    "import pandas as pd\n",
    "from glob import glob\n",
    "import pickle"
   ]
  },
  {
   "cell_type": "markdown",
   "metadata": {},
   "source": [
    "# Create Dataset"
   ]
  },
  {
   "cell_type": "code",
   "execution_count": 2,
   "metadata": {
    "collapsed": true
   },
   "outputs": [],
   "source": [
    "data_path = \"./CamVid/\"\n",
    "\n",
    "train_path = \"./CamVid/train/\"\n",
    "train_label_path = \"./CamVid/trainannot/\"\n",
    "\n",
    "valid_path = \"./CamVid/val/\"\n",
    "valid_label_path = \"./CamVid/valannot/\"\n",
    "\n",
    "test_path = \"./CamVid/test/\"\n",
    "test_label_path = \"./CamVid/testannot/\"\n",
    "\n",
    "train_file = data_path + \"train.p\"\n",
    "valid_file = data_path + \"val.p\"\n",
    "test_file = data_path + \"test.p\"\n"
   ]
  },
  {
   "cell_type": "code",
   "execution_count": 3,
   "metadata": {
    "collapsed": true
   },
   "outputs": [],
   "source": [
    "train_list = sorted(glob(train_path + \"*.png\"))\n",
    "train_label_list = sorted(glob(train_label_path + \"*.png\"))\n",
    "\n",
    "valid_list = sorted(glob(valid_path + \"*.png\"))\n",
    "valid_label_list = sorted(glob(valid_label_path + \"*.png\"))\n",
    "\n",
    "test_list = sorted(glob(test_path + \"*.png\"))\n",
    "test_label_list = sorted(glob(test_label_path + \"*.png\"))"
   ]
  },
  {
   "cell_type": "code",
   "execution_count": 4,
   "metadata": {
    "collapsed": true
   },
   "outputs": [],
   "source": [
    "def binarylab(labels):\n",
    "    x = np.zeros([labels.shape[0],labels.shape[1],12])    \n",
    "    for i in range(labels.shape[0]):\n",
    "        for j in range(labels.shape[1]):\n",
    "            x[i,j,labels[i][j]]=1\n",
    "    return x"
   ]
  },
  {
   "cell_type": "code",
   "execution_count": 5,
   "metadata": {
    "collapsed": true
   },
   "outputs": [],
   "source": [
    "def make_dataset(image_list, mask_list):\n",
    "    images = []\n",
    "    masks = []\n",
    "    \n",
    "    for img, mask in zip(image_list, mask_list):\n",
    "        images.append(cv2.resize(cv2.imread(img), (480,480)))\n",
    "        masks.append(binarylab(cv2.resize(cv2.imread(mask), (480,480))))\n",
    "        \n",
    "    images = np.array(images)\n",
    "    masks = np.array(masks)\n",
    "    \n",
    "    return images, masks"
   ]
  },
  {
   "cell_type": "code",
   "execution_count": 6,
   "metadata": {
    "collapsed": true
   },
   "outputs": [],
   "source": [
    "X_train, y_train = make_dataset(train_list, train_label_list)\n",
    "X_val, y_val = make_dataset(valid_list, valid_label_list)\n",
    "X_test, y_test = make_dataset(test_list, test_label_list)"
   ]
  },
  {
   "cell_type": "code",
   "execution_count": 7,
   "metadata": {},
   "outputs": [
    {
     "data": {
      "text/plain": [
       "((367, 480, 480, 3),\n",
       " (367, 480, 480, 12),\n",
       " (101, 480, 480, 3),\n",
       " (101, 480, 480, 12),\n",
       " (233, 480, 480, 3),\n",
       " (233, 480, 480, 12))"
      ]
     },
     "execution_count": 7,
     "metadata": {},
     "output_type": "execute_result"
    }
   ],
   "source": [
    "X_train.shape, y_train.shape, X_val.shape, y_val.shape, X_test.shape, y_test.shape"
   ]
  },
  {
   "cell_type": "code",
   "execution_count": 9,
   "metadata": {},
   "outputs": [],
   "source": [
    "with open(train_file, \"wb\") as f:\n",
    "    pickle.dump((X_train, y_train),f, protocol=4)\n",
    "    \n",
    "with open(valid_file, \"wb\") as f:\n",
    "    pickle.dump((X_val, y_val),f, protocol=4)\n",
    "    \n",
    "with open(test_file, \"wb\") as f:\n",
    "    pickle.dump((X_test, y_test),f, protocol=4)"
   ]
  },
  {
   "cell_type": "code",
   "execution_count": null,
   "metadata": {
    "collapsed": true
   },
   "outputs": [],
   "source": []
  }
 ],
 "metadata": {
  "kernelspec": {
   "display_name": "Python 3",
   "language": "python",
   "name": "python3"
  },
  "language_info": {
   "codemirror_mode": {
    "name": "ipython",
    "version": 3
   },
   "file_extension": ".py",
   "mimetype": "text/x-python",
   "name": "python",
   "nbconvert_exporter": "python",
   "pygments_lexer": "ipython3",
   "version": "3.5.2"
  }
 },
 "nbformat": 4,
 "nbformat_minor": 2
}
